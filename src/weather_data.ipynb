{
 "cells": [
  {
   "cell_type": "code",
   "execution_count": 1,
   "id": "32701acc-24a5-4467-9fb5-f3cc33a34eba",
   "metadata": {},
   "outputs": [],
   "source": [
    "# imports\n",
    "from sqlalchemy import create_engine, inspect\n",
    "import geopandas as gpd\n",
    "from meteostat import Stations, Daily, Point\n",
    "from helper import get_nuts_data, get_daily_weather_data, plot_centroids_with_radius\n",
    "import pandas as pd\n",
    "from datetime import datetime\n",
    "from tqdm import tqdm\n",
    "import logging\n",
    "import warnings\n",
    "from logging.handlers import RotatingFileHandler\n",
    "\n",
    "%matplotlib qt"
   ]
  },
  {
   "cell_type": "code",
   "execution_count": 2,
   "id": "77892893-dd8b-4b31-add5-cf2b098b4c6b",
   "metadata": {},
   "outputs": [],
   "source": [
    "# redirect logger\n",
    "logger_file_handler = RotatingFileHandler(u'/dev/null')\n",
    "logger_file_handler.setLevel(logging.WARNING)\n",
    "logging.captureWarnings(True)\n",
    "root_logger = logging.getLogger()\n",
    "root_logger.addHandler(logger_file_handler)\n",
    "root_logger.setLevel(logging.WARNING)"
   ]
  },
  {
   "cell_type": "code",
   "execution_count": 3,
   "id": "703485a1-2172-4de1-8ad3-10fe7d87f62b",
   "metadata": {},
   "outputs": [],
   "source": [
    "path = \"weather.db\""
   ]
  },
  {
   "cell_type": "code",
   "execution_count": 4,
   "id": "4e8b18ad-722d-4b34-bb03-baf8f4ee16ac",
   "metadata": {},
   "outputs": [],
   "source": [
    "engine = create_engine(\"sqlite:///\"+path, echo=False)"
   ]
  },
  {
   "cell_type": "code",
   "execution_count": 5,
   "id": "5df82998-c733-4eaa-a2bb-c1fe9a0270f1",
   "metadata": {},
   "outputs": [],
   "source": [
    "# Check which tables already exist\n",
    "insp = inspect(engine)\n",
    "tables = insp.get_table_names()"
   ]
  },
  {
   "cell_type": "code",
   "execution_count": 6,
   "id": "a07061b9-c289-431f-8dc0-fd4aa82f32bf",
   "metadata": {},
   "outputs": [],
   "source": [
    "# add nuts data table\n",
    "for lvl in range(1, 4):\n",
    "    if f'nuts{lvl}' in tables:\n",
    "        continue\n",
    "    print(f\"Reading NUTS{lvl} data\")\n",
    "    data = get_nuts_data(lvl)\n",
    "    data.set_index([\"NUTS_CODE\"], inplace=True)\n",
    "    data.to_sql(f'nuts{lvl}', con=engine, if_exists='replace')"
   ]
  },
  {
   "cell_type": "code",
   "execution_count": 7,
   "id": "988ed68f-0b84-4bfe-a293-3986da023fca",
   "metadata": {},
   "outputs": [
    {
     "data": {
      "text/html": [
       "<div>\n",
       "<style scoped>\n",
       "    .dataframe tbody tr th:only-of-type {\n",
       "        vertical-align: middle;\n",
       "    }\n",
       "\n",
       "    .dataframe tbody tr th {\n",
       "        vertical-align: top;\n",
       "    }\n",
       "\n",
       "    .dataframe thead th {\n",
       "        text-align: right;\n",
       "    }\n",
       "</style>\n",
       "<table border=\"1\" class=\"dataframe\">\n",
       "  <thead>\n",
       "    <tr style=\"text-align: right;\">\n",
       "      <th></th>\n",
       "      <th>NUTS_CODE</th>\n",
       "      <th>NUTS_LEVEL</th>\n",
       "      <th>NUTS_NAME</th>\n",
       "      <th>lon_times100</th>\n",
       "      <th>lat_times100</th>\n",
       "    </tr>\n",
       "  </thead>\n",
       "  <tbody>\n",
       "    <tr>\n",
       "      <th>0</th>\n",
       "      <td>DE111</td>\n",
       "      <td>3</td>\n",
       "      <td>Stuttgart, Stadtkreis</td>\n",
       "      <td>917</td>\n",
       "      <td>4877</td>\n",
       "    </tr>\n",
       "    <tr>\n",
       "      <th>1</th>\n",
       "      <td>DE112</td>\n",
       "      <td>3</td>\n",
       "      <td>Böblingen</td>\n",
       "      <td>894</td>\n",
       "      <td>4867</td>\n",
       "    </tr>\n",
       "    <tr>\n",
       "      <th>2</th>\n",
       "      <td>DE113</td>\n",
       "      <td>3</td>\n",
       "      <td>Esslingen</td>\n",
       "      <td>936</td>\n",
       "      <td>4864</td>\n",
       "    </tr>\n",
       "    <tr>\n",
       "      <th>3</th>\n",
       "      <td>DE114</td>\n",
       "      <td>3</td>\n",
       "      <td>Göppingen</td>\n",
       "      <td>971</td>\n",
       "      <td>4866</td>\n",
       "    </tr>\n",
       "    <tr>\n",
       "      <th>4</th>\n",
       "      <td>DE115</td>\n",
       "      <td>3</td>\n",
       "      <td>Ludwigsburg</td>\n",
       "      <td>912</td>\n",
       "      <td>4894</td>\n",
       "    </tr>\n",
       "  </tbody>\n",
       "</table>\n",
       "</div>"
      ],
      "text/plain": [
       "  NUTS_CODE  NUTS_LEVEL              NUTS_NAME  lon_times100  lat_times100\n",
       "0     DE111           3  Stuttgart, Stadtkreis           917          4877\n",
       "1     DE112           3              Böblingen           894          4867\n",
       "2     DE113           3              Esslingen           936          4864\n",
       "3     DE114           3              Göppingen           971          4866\n",
       "4     DE115           3            Ludwigsburg           912          4894"
      ]
     },
     "execution_count": 7,
     "metadata": {},
     "output_type": "execute_result"
    }
   ],
   "source": [
    "# add centroid weather data\n",
    "lvl = 3\n",
    "df = pd.read_sql_table(f'nuts{lvl}', engine)\n",
    "df.head()"
   ]
  },
  {
   "cell_type": "code",
   "execution_count": 8,
   "id": "681f24ef-1a49-4e0b-8498-6a01b0edffc3",
   "metadata": {},
   "outputs": [
    {
     "name": "stderr",
     "output_type": "stream",
     "text": [
      "100%|██████████████████████████████████████| 401/401 [00:00<00:00, 20904.27it/s]\n"
     ]
    }
   ],
   "source": [
    "radius = 50000\n",
    "start = datetime(year=1984, month=1, day=1)\n",
    "end = datetime(year=2021, month=1, day=1)\n",
    "for _, row in tqdm(df.iterrows(), total=df.shape[0]):\n",
    "    index = row['NUTS_CODE'] + '_weather'\n",
    "    if index in tables:\n",
    "        continue\n",
    "    lat, lon = row['lat_times100'] / 100, row['lon_times100'] / 100\n",
    "    daily = get_daily_weather_data(lat, lon, radius, start, end)\n",
    "    # write data to database\n",
    "    if daily.shape[0] > 0:\n",
    "        daily.to_sql(index, con=engine, if_exists='replace')"
   ]
  },
  {
   "cell_type": "code",
   "execution_count": 9,
   "id": "35b780a4-886a-4ab0-a068-c5551122c32b",
   "metadata": {},
   "outputs": [
    {
     "name": "stderr",
     "output_type": "stream",
     "text": [
      "Warning: Ignoring XDG_SESSION_TYPE=wayland on Gnome. Use QT_QPA_PLATFORM=wayland to run on Wayland anyway.\n"
     ]
    }
   ],
   "source": [
    "plot_centroids_with_radius(3)"
   ]
  }
 ],
 "metadata": {
  "kernelspec": {
   "display_name": "Python 3 (ipykernel)",
   "language": "python",
   "name": "python3"
  },
  "language_info": {
   "codemirror_mode": {
    "name": "ipython",
    "version": 3
   },
   "file_extension": ".py",
   "mimetype": "text/x-python",
   "name": "python",
   "nbconvert_exporter": "python",
   "pygments_lexer": "ipython3",
   "version": "3.10.6"
  }
 },
 "nbformat": 4,
 "nbformat_minor": 5
}
